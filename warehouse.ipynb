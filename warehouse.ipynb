{
 "cells": [
  {
   "cell_type": "code",
   "execution_count": 1,
   "metadata": {},
   "outputs": [],
   "source": [
    "#Librerias:\n",
    "import pandas as pd\n",
    "import numpy as np"
   ]
  },
  {
   "cell_type": "markdown",
   "metadata": {},
   "source": [
    "## Consideraciones para la implementación:\n",
    "* Se considera velocidad constante para todos los pickeadores\n",
    "* Se considera el tiempo en recoger un producto igual para todos los pickeadores y para todos los productos"
   ]
  },
  {
   "cell_type": "code",
   "execution_count": 2,
   "metadata": {},
   "outputs": [],
   "source": [
    "cant_pickeadores=4 #cantidad de pickeadores en el centro de distribución.\n",
    "tiempo_pickeo=20 #tiempo de pickeo por producto (se considera constante).\n",
    "velocidad=30 #velocidad de los pickeadores para recorrer el centro. "
   ]
  },
  {
   "cell_type": "markdown",
   "metadata": {},
   "source": [
    "##  Extraccion de datos:"
   ]
  },
  {
   "cell_type": "code",
   "execution_count": 3,
   "metadata": {},
   "outputs": [],
   "source": [
    "ots = pd.read_csv(\"data/ot.csv\",sep=',')\n",
    "ots=ots.sort_values('Pedido')\n",
    "xlsx_file = \"data/layout.xlsx\"\n",
    "layout = pd.read_excel(xlsx_file, sheet_name=\"layout\")\n",
    "adyacencia=pd.read_excel(xlsx_file, sheet_name=\"adyacencia\")\n"
   ]
  },
  {
   "cell_type": "code",
   "execution_count": 4,
   "metadata": {},
   "outputs": [
    {
     "data": {
      "text/html": [
       "<div>\n",
       "<style scoped>\n",
       "    .dataframe tbody tr th:only-of-type {\n",
       "        vertical-align: middle;\n",
       "    }\n",
       "\n",
       "    .dataframe tbody tr th {\n",
       "        vertical-align: top;\n",
       "    }\n",
       "\n",
       "    .dataframe thead th {\n",
       "        text-align: right;\n",
       "    }\n",
       "</style>\n",
       "<table border=\"1\" class=\"dataframe\">\n",
       "  <thead>\n",
       "    <tr style=\"text-align: right;\">\n",
       "      <th></th>\n",
       "      <th>Pedido</th>\n",
       "      <th>Cod.Prod</th>\n",
       "    </tr>\n",
       "  </thead>\n",
       "  <tbody>\n",
       "    <tr>\n",
       "      <th>0</th>\n",
       "      <td>1</td>\n",
       "      <td>9.0</td>\n",
       "    </tr>\n",
       "    <tr>\n",
       "      <th>1</th>\n",
       "      <td>2</td>\n",
       "      <td>69.0</td>\n",
       "    </tr>\n",
       "    <tr>\n",
       "      <th>2</th>\n",
       "      <td>2</td>\n",
       "      <td>42.0</td>\n",
       "    </tr>\n",
       "    <tr>\n",
       "      <th>3</th>\n",
       "      <td>2</td>\n",
       "      <td>44.0</td>\n",
       "    </tr>\n",
       "    <tr>\n",
       "      <th>4</th>\n",
       "      <td>2</td>\n",
       "      <td>27.0</td>\n",
       "    </tr>\n",
       "  </tbody>\n",
       "</table>\n",
       "</div>"
      ],
      "text/plain": [
       "   Pedido  Cod.Prod\n",
       "0       1       9.0\n",
       "1       2      69.0\n",
       "2       2      42.0\n",
       "3       2      44.0\n",
       "4       2      27.0"
      ]
     },
     "execution_count": 4,
     "metadata": {},
     "output_type": "execute_result"
    }
   ],
   "source": [
    "#ordenes:\n",
    "ots.head()"
   ]
  },
  {
   "cell_type": "code",
   "execution_count": 5,
   "metadata": {},
   "outputs": [
    {
     "data": {
      "text/html": [
       "<div>\n",
       "<style scoped>\n",
       "    .dataframe tbody tr th:only-of-type {\n",
       "        vertical-align: middle;\n",
       "    }\n",
       "\n",
       "    .dataframe tbody tr th {\n",
       "        vertical-align: top;\n",
       "    }\n",
       "\n",
       "    .dataframe thead th {\n",
       "        text-align: right;\n",
       "    }\n",
       "</style>\n",
       "<table border=\"1\" class=\"dataframe\">\n",
       "  <thead>\n",
       "    <tr style=\"text-align: right;\">\n",
       "      <th></th>\n",
       "      <th>Producto</th>\n",
       "      <th>orden</th>\n",
       "      <th>pasillo</th>\n",
       "      <th>uso</th>\n",
       "      <th>direccion</th>\n",
       "      <th>gondola</th>\n",
       "      <th>slot_largo</th>\n",
       "      <th>slot_ancho</th>\n",
       "      <th>slot_alto</th>\n",
       "      <th>largo_pasillo</th>\n",
       "      <th>ancho_pasillo</th>\n",
       "    </tr>\n",
       "  </thead>\n",
       "  <tbody>\n",
       "    <tr>\n",
       "      <th>0</th>\n",
       "      <td>1</td>\n",
       "      <td>1</td>\n",
       "      <td>11</td>\n",
       "      <td>Pallet Pck General</td>\n",
       "      <td>ASCENDENTE</td>\n",
       "      <td>izquierda</td>\n",
       "      <td>9999</td>\n",
       "      <td>9999</td>\n",
       "      <td>9999</td>\n",
       "      <td>9999</td>\n",
       "      <td>9999</td>\n",
       "    </tr>\n",
       "    <tr>\n",
       "      <th>1</th>\n",
       "      <td>2</td>\n",
       "      <td>2</td>\n",
       "      <td>11</td>\n",
       "      <td>Pallet Pck General</td>\n",
       "      <td>ASCENDENTE</td>\n",
       "      <td>derecha</td>\n",
       "      <td>9999</td>\n",
       "      <td>9999</td>\n",
       "      <td>9999</td>\n",
       "      <td>9999</td>\n",
       "      <td>9999</td>\n",
       "    </tr>\n",
       "    <tr>\n",
       "      <th>2</th>\n",
       "      <td>3</td>\n",
       "      <td>3</td>\n",
       "      <td>11</td>\n",
       "      <td>Pallet Pck General</td>\n",
       "      <td>ASCENDENTE</td>\n",
       "      <td>izquierda</td>\n",
       "      <td>9999</td>\n",
       "      <td>9999</td>\n",
       "      <td>9999</td>\n",
       "      <td>9999</td>\n",
       "      <td>9999</td>\n",
       "    </tr>\n",
       "    <tr>\n",
       "      <th>3</th>\n",
       "      <td>4</td>\n",
       "      <td>4</td>\n",
       "      <td>11</td>\n",
       "      <td>Pallet Pck General</td>\n",
       "      <td>ASCENDENTE</td>\n",
       "      <td>derecha</td>\n",
       "      <td>9999</td>\n",
       "      <td>9999</td>\n",
       "      <td>9999</td>\n",
       "      <td>9999</td>\n",
       "      <td>9999</td>\n",
       "    </tr>\n",
       "    <tr>\n",
       "      <th>4</th>\n",
       "      <td>5</td>\n",
       "      <td>5</td>\n",
       "      <td>11</td>\n",
       "      <td>Pallet Pck General</td>\n",
       "      <td>ASCENDENTE</td>\n",
       "      <td>izquierda</td>\n",
       "      <td>9999</td>\n",
       "      <td>9999</td>\n",
       "      <td>9999</td>\n",
       "      <td>9999</td>\n",
       "      <td>9999</td>\n",
       "    </tr>\n",
       "  </tbody>\n",
       "</table>\n",
       "</div>"
      ],
      "text/plain": [
       "   Producto  orden  pasillo                 uso   direccion    gondola  \\\n",
       "0         1      1       11  Pallet Pck General  ASCENDENTE  izquierda   \n",
       "1         2      2       11  Pallet Pck General  ASCENDENTE    derecha   \n",
       "2         3      3       11  Pallet Pck General  ASCENDENTE  izquierda   \n",
       "3         4      4       11  Pallet Pck General  ASCENDENTE    derecha   \n",
       "4         5      5       11  Pallet Pck General  ASCENDENTE  izquierda   \n",
       "\n",
       "   slot_largo  slot_ancho  slot_alto  largo_pasillo  ancho_pasillo  \n",
       "0        9999        9999       9999           9999           9999  \n",
       "1        9999        9999       9999           9999           9999  \n",
       "2        9999        9999       9999           9999           9999  \n",
       "3        9999        9999       9999           9999           9999  \n",
       "4        9999        9999       9999           9999           9999  "
      ]
     },
     "execution_count": 5,
     "metadata": {},
     "output_type": "execute_result"
    }
   ],
   "source": [
    "#datos sobre cada producto/pasillo\n",
    "layout.head()"
   ]
  },
  {
   "cell_type": "code",
   "execution_count": 6,
   "metadata": {},
   "outputs": [
    {
     "data": {
      "text/html": [
       "<div>\n",
       "<style scoped>\n",
       "    .dataframe tbody tr th:only-of-type {\n",
       "        vertical-align: middle;\n",
       "    }\n",
       "\n",
       "    .dataframe tbody tr th {\n",
       "        vertical-align: top;\n",
       "    }\n",
       "\n",
       "    .dataframe thead th {\n",
       "        text-align: right;\n",
       "    }\n",
       "</style>\n",
       "<table border=\"1\" class=\"dataframe\">\n",
       "  <thead>\n",
       "    <tr style=\"text-align: right;\">\n",
       "      <th></th>\n",
       "      <th>pasillo</th>\n",
       "      <th>adyacente</th>\n",
       "      <th>distancia</th>\n",
       "    </tr>\n",
       "  </thead>\n",
       "  <tbody>\n",
       "    <tr>\n",
       "      <th>0</th>\n",
       "      <td>0</td>\n",
       "      <td>11</td>\n",
       "      <td>1</td>\n",
       "    </tr>\n",
       "    <tr>\n",
       "      <th>1</th>\n",
       "      <td>0</td>\n",
       "      <td>31</td>\n",
       "      <td>1</td>\n",
       "    </tr>\n",
       "    <tr>\n",
       "      <th>2</th>\n",
       "      <td>0</td>\n",
       "      <td>51</td>\n",
       "      <td>1</td>\n",
       "    </tr>\n",
       "    <tr>\n",
       "      <th>3</th>\n",
       "      <td>11</td>\n",
       "      <td>12</td>\n",
       "      <td>1</td>\n",
       "    </tr>\n",
       "    <tr>\n",
       "      <th>4</th>\n",
       "      <td>11</td>\n",
       "      <td>21</td>\n",
       "      <td>1</td>\n",
       "    </tr>\n",
       "  </tbody>\n",
       "</table>\n",
       "</div>"
      ],
      "text/plain": [
       "   pasillo  adyacente  distancia\n",
       "0        0         11          1\n",
       "1        0         31          1\n",
       "2        0         51          1\n",
       "3       11         12          1\n",
       "4       11         21          1"
      ]
     },
     "execution_count": 6,
     "metadata": {},
     "output_type": "execute_result"
    }
   ],
   "source": [
    "#adyacencia de cada pasillo:\n",
    "adyacencia.head()"
   ]
  },
  {
   "cell_type": "code",
   "execution_count": 7,
   "metadata": {},
   "outputs": [
    {
     "data": {
      "text/plain": [
       "20"
      ]
     },
     "execution_count": 7,
     "metadata": {},
     "output_type": "execute_result"
    }
   ],
   "source": [
    "#cantidad de ordenes \n",
    "cant_ordenes=len(ots['Pedido'].unique())\n",
    "cant_ordenes"
   ]
  },
  {
   "cell_type": "code",
   "execution_count": 8,
   "metadata": {},
   "outputs": [
    {
     "data": {
      "text/plain": [
       "array([11, 12, 22, 21, 31, 32, 42, 41, 51, 52, 62, 61], dtype=int64)"
      ]
     },
     "execution_count": 8,
     "metadata": {},
     "output_type": "execute_result"
    }
   ],
   "source": [
    "#array con todos los pasillos:\n",
    "pasillos=layout['pasillo'].unique()\n",
    "pasillos"
   ]
  },
  {
   "cell_type": "code",
   "execution_count": 9,
   "metadata": {},
   "outputs": [
    {
     "data": {
      "text/plain": [
       "[1, 2, 3, 4, 5, 6, 7, 8, 9, 10, 11, 12, 13, 14, 15, 16, 17, 18, 19, 20]"
      ]
     },
     "execution_count": 9,
     "metadata": {},
     "output_type": "execute_result"
    }
   ],
   "source": [
    "#lista con las ordenes ordenadas \n",
    "ordenes_enum=ots[\"Pedido\"].unique()\n",
    "ordenes_enum=list(ordenes_enum)\n",
    "ordenes_enum"
   ]
  },
  {
   "cell_type": "code",
   "execution_count": 10,
   "metadata": {},
   "outputs": [
    {
     "data": {
      "text/plain": [
       "array([list([9.0]), list([69.0, 42.0, 44.0, 27.0, 37.0, 54.0, 3.0]),\n",
       "       list([62.0, 68.0, 1.0, 2.0]),\n",
       "       list([63.0, 16.0, 13.0, 41.0, 66.0, 69.0, 70.0, 72.0]),\n",
       "       list([67.0, 44.0, 58.0]), list([70.0, 58.0]),\n",
       "       list([3.0, 55.0, 52.0, 22.0, 58.0, 66.0, 57.0, 5.0]),\n",
       "       list([48.0, 9.0, 55.0]), list([55.0]), list([8.0, 20.0, 67.0]),\n",
       "       list([61.0, 57.0]), list([57.0]),\n",
       "       list([69.0, 34.0, 24.0, 22.0, 59.0, 19.0, 63.0]), list([55.0]),\n",
       "       list([14.0, 35.0, 17.0, 65.0, 59.0, 72.0, 56.0, 27.0]),\n",
       "       list([49.0, 13.0, 29.0, 2.0, 50.0]), list([14.0]),\n",
       "       list([30.0, 33.0, 5.0]), list([35.0, 43.0, 20.0, 58.0, 52.0, 7.0]),\n",
       "       list([6.0])], dtype=object)"
      ]
     },
     "execution_count": 10,
     "metadata": {},
     "output_type": "execute_result"
    }
   ],
   "source": [
    "#arreglo con cada producto pedido por orden\n",
    "lista=[]\n",
    "for x in range(cant_ordenes):\n",
    "    obj=list(ots.loc[ots[\"Pedido\"]==x+1][\"Cod.Prod\"])\n",
    "    lista.append(obj)\n",
    "    ordenes=np.array(lista)\n",
    "ordenes"
   ]
  },
  {
   "cell_type": "code",
   "execution_count": 11,
   "metadata": {},
   "outputs": [
    {
     "data": {
      "text/plain": [
       "[0, 0, 0, 0]"
      ]
     },
     "execution_count": 11,
     "metadata": {},
     "output_type": "execute_result"
    }
   ],
   "source": [
    "#se construye una lista donde cada elemento representa el pedido asignado a cada pickeador\n",
    "#(inicialmente 0 porque no tienen pedidos asignados)\n",
    "pickeadores=[]\n",
    "for x in range(cant_pickeadores):\n",
    "    pickeadores.append(0)\n",
    "\n",
    "pickeadores"
   ]
  },
  {
   "cell_type": "code",
   "execution_count": 12,
   "metadata": {},
   "outputs": [
    {
     "data": {
      "text/html": [
       "<div>\n",
       "<style scoped>\n",
       "    .dataframe tbody tr th:only-of-type {\n",
       "        vertical-align: middle;\n",
       "    }\n",
       "\n",
       "    .dataframe tbody tr th {\n",
       "        vertical-align: top;\n",
       "    }\n",
       "\n",
       "    .dataframe thead th {\n",
       "        text-align: right;\n",
       "    }\n",
       "</style>\n",
       "<table border=\"1\" class=\"dataframe\">\n",
       "  <thead>\n",
       "    <tr style=\"text-align: right;\">\n",
       "      <th></th>\n",
       "      <th>pasillo</th>\n",
       "      <th>ocupado</th>\n",
       "      <th>pickeador</th>\n",
       "    </tr>\n",
       "  </thead>\n",
       "  <tbody>\n",
       "    <tr>\n",
       "      <th>0</th>\n",
       "      <td>11</td>\n",
       "      <td>False</td>\n",
       "      <td>0</td>\n",
       "    </tr>\n",
       "    <tr>\n",
       "      <th>1</th>\n",
       "      <td>12</td>\n",
       "      <td>False</td>\n",
       "      <td>0</td>\n",
       "    </tr>\n",
       "    <tr>\n",
       "      <th>2</th>\n",
       "      <td>22</td>\n",
       "      <td>False</td>\n",
       "      <td>0</td>\n",
       "    </tr>\n",
       "    <tr>\n",
       "      <th>3</th>\n",
       "      <td>21</td>\n",
       "      <td>False</td>\n",
       "      <td>0</td>\n",
       "    </tr>\n",
       "    <tr>\n",
       "      <th>4</th>\n",
       "      <td>31</td>\n",
       "      <td>False</td>\n",
       "      <td>0</td>\n",
       "    </tr>\n",
       "  </tbody>\n",
       "</table>\n",
       "</div>"
      ],
      "text/plain": [
       "   pasillo  ocupado  pickeador\n",
       "0       11    False          0\n",
       "1       12    False          0\n",
       "2       22    False          0\n",
       "3       21    False          0\n",
       "4       31    False          0"
      ]
     },
     "execution_count": 12,
     "metadata": {},
     "output_type": "execute_result"
    }
   ],
   "source": [
    "#se inicializa un dataframe que me dira si un pasillo esta ocupado y que pickeador está en el (pickeador 0 cuando no hay nadie).\n",
    "l=[]\n",
    "for pasillo in pasillos:\n",
    "    l.append([pasillo,False, 0])\n",
    "pasillo_bool=pd.DataFrame(l,\n",
    "                          columns=[\"pasillo\",\"ocupado\",\"pickeador\"])\n",
    "\n",
    "pasillo_bool.head()"
   ]
  },
  {
   "cell_type": "code",
   "execution_count": 13,
   "metadata": {},
   "outputs": [
    {
     "data": {
      "text/plain": [
       "[0, 0, 0, 0]"
      ]
     },
     "execution_count": 13,
     "metadata": {},
     "output_type": "execute_result"
    }
   ],
   "source": [
    "#se crea una lista donde cada elemento en la posicion i representa el pasillo actual del pickeador i+1.\n",
    "pasillo_act=[]\n",
    "for x in range(cant_pickeadores):\n",
    "    pasillo_act.append(0)\n",
    "    \n",
    "pasillo_act"
   ]
  },
  {
   "cell_type": "markdown",
   "metadata": {},
   "source": [
    "## Funciones:"
   ]
  },
  {
   "cell_type": "code",
   "execution_count": 14,
   "metadata": {},
   "outputs": [],
   "source": [
    "#Funcion para asignar ordenes a los pickeadores, recibe una lista talcomo la que creamos antes \"pickeadores\"\n",
    "def asignar_ordenes(pickeadores):\n",
    "    for x in range(cant_pickeadores):\n",
    "        if pickeadores[x]==0:\n",
    "            if len(ordenes_enum)>0:\n",
    "                pickeadores[x]=ordenes_enum[0]\n",
    "                ordenes_enum.remove(ordenes_enum[0])\n",
    "    return pickeadores"
   ]
  },
  {
   "cell_type": "code",
   "execution_count": 15,
   "metadata": {},
   "outputs": [],
   "source": [
    "#Funcion que retorna True si es que existe ruta desde el pasillo p2 al p1, y False en caso contrario\n",
    "def existe_ruta(p1,p2):\n",
    "    ady=adyacencia.loc[adyacencia[\"pasillo\"]==p2]\n",
    "    \n",
    "    if p1==p2:\n",
    "        return True\n",
    "    \n",
    "    for x in range(ady.shape[0]):\n",
    "        if ady.iloc[x,1]==p1:\n",
    "            return True\n",
    "        else:\n",
    "            if ady.iloc[x,1]==-1:\n",
    "                return False\n",
    "            else:\n",
    "                return existe_ruta(p1,ady.iloc[x,1])"
   ]
  },
  {
   "cell_type": "code",
   "execution_count": 16,
   "metadata": {},
   "outputs": [],
   "source": [
    "#función que entrega el siguiente pasillo a ir en la ruta desde un pasillo a otro.\n",
    "def next_move(pasillo_a_ir,pasillo_act):\n",
    "    ady=adyacencia.loc[adyacencia[\"pasillo\"]==pasillo_act]\n",
    "    for x in range(ady.shape[0]):\n",
    "        if existe_ruta(pasillo_a_ir,ady.iloc[x,1]):\n",
    "            return ady.iloc[x,1]"
   ]
  },
  {
   "cell_type": "code",
   "execution_count": 17,
   "metadata": {},
   "outputs": [],
   "source": [
    "#Función que me devuelve una lista con la ruta a seguir para ir a un pasillo desde el pasillo actual en el que se encuentra un\n",
    "#pickeador.\n",
    "def ruta(pasillo_a_ir,pasillo_act):\n",
    "    x=pasillo_act\n",
    "    l=[]\n",
    "    while x!=pasillo_a_ir:\n",
    "        x=next_move(pasillo_a_ir,x)\n",
    "        l.append(x)\n",
    "    return l"
   ]
  },
  {
   "cell_type": "code",
   "execution_count": 18,
   "metadata": {},
   "outputs": [],
   "source": [
    "#Funcion creada para ordenar por pasillo los elementos dentro de una orden.\n",
    "def ordenar(orden):\n",
    "    lista_ordenada=[]\n",
    "    for pasillo in pasillos:\n",
    "        for x in range(len(orden)):\n",
    "        \n",
    "            if pasillo==objeto_en_pasillo(orden[x]):\n",
    "                lista_ordenada.append(orden[x])\n",
    "    return lista_ordenada"
   ]
  },
  {
   "cell_type": "code",
   "execution_count": 19,
   "metadata": {},
   "outputs": [],
   "source": [
    "#Funcion que recibe un codigo de producto y retorna el pasillo en el que se encuentra\n",
    "def objeto_en_pasillo(cod_prod):\n",
    "    l=layout.loc[layout[\"Producto\"]==cod_prod]\n",
    "    pasillo=l.iloc[0,2]\n",
    "    return pasillo"
   ]
  },
  {
   "cell_type": "code",
   "execution_count": 20,
   "metadata": {},
   "outputs": [],
   "source": [
    "#Funcion que recibe un pasillo y retorna True si es que este esta ocupado o False en el caso contrario.\n",
    "def ocupado(pasillo):\n",
    "    p=pasillo_bool.loc[pasillo_bool[\"pasillo\"]==pasillo]\n",
    "    return p.iloc[0,1]"
   ]
  },
  {
   "cell_type": "markdown",
   "metadata": {},
   "source": [
    "## Función final:"
   ]
  },
  {
   "cell_type": "code",
   "execution_count": 21,
   "metadata": {},
   "outputs": [],
   "source": [
    "def tiempo(ordenes,pickeadores):\n",
    "    print(\"cant pickeadores:\", cant_pickeadores)\n",
    "    for x in range(len(ordenes)):\n",
    "        ordenes[x]=ordenar(ordenes[x])\n",
    "    \n",
    "    t_recorrido=0\n",
    "    t_wait=0\n",
    "    t_pick=0\n",
    "    contador=[]\n",
    "    for y in range(cant_pickeadores):\n",
    "        contador.append(0)\n",
    "        \n",
    "    while len(ordenes_enum)>0:\n",
    "        \n",
    "        asignar_ordenes(pickeadores)\n",
    "        for x in range(cant_pickeadores):\n",
    "            if pickeadores[x] !=0: \n",
    "                if contador[x]==-1:\n",
    "                    next_move=-1\n",
    "                else:\n",
    "                    next_move=objeto_en_pasillo(ordenes[pickeadores[x]-1][contador[x]])\n",
    "                if len(ruta(next_move,pasillo_act[x]))==0:\n",
    "                    if pasillo_act[x]==-1:\n",
    "                        contador[x]=0\n",
    "                        pickeadores[x]=0\n",
    "                        pasillo_act[x]=0\n",
    "                    \n",
    "                    else:\n",
    "                        t_pick+=tiempo_pickeo\n",
    "                        if contador[x]+1<len(ordenes[pickeadores[x]-1]):\n",
    "                            contador[x]+=1\n",
    "                        else:\n",
    "                            contador[x]=-1\n",
    "                else:\n",
    "                    route=ruta(next_move,pasillo_act[x])\n",
    "                    if route[0]==-1:\n",
    "                        pasillo_bool.iloc[pasillo_bool.loc[pasillo_bool[\"pasillo\"]==pasillo_act[x]].index,1]=False\n",
    "                        pasillo_bool.iloc[pasillo_bool.loc[pasillo_bool[\"pasillo\"]==pasillo_act[x]].index,2]=0\n",
    "                        t_recorrido+=1/velocidad\n",
    "                        pasillo_act[x]=route[0]\n",
    "                        pasillo_bool.iloc[pasillo_bool.loc[pasillo_bool[\"pasillo\"]==route[0]].index,1]=True\n",
    "                        pasillo_bool.iloc[pasillo_bool.loc[pasillo_bool[\"pasillo\"]==route[0]].index,2]=x+1\n",
    "                    \n",
    "                    else:\n",
    "                        if ocupado(route[0]):\n",
    "                            t_wait+=tiempo_pickeo\n",
    "                        else:\n",
    "                            if pasillo_act[x]>0:\n",
    "                                largo_pasillo=layout.loc[layout[\"pasillo\"]==pasillo_act[x]].iloc[0,9]\n",
    "                                t_recorrido+=largo_pasillo/velocidad\n",
    "                            distancia_df=adyacencia.loc[(adyacencia[\"pasillo\"]==pasillo_act[x]) & (adyacencia[\"adyacente\"]==route[0])]\n",
    "                            distancia=distancia_df.iloc[0,2]\n",
    "                            pasillo_bool.iloc[pasillo_bool.loc[pasillo_bool[\"pasillo\"]==pasillo_act[x]].index,1]=False\n",
    "                            pasillo_bool.iloc[pasillo_bool.loc[pasillo_bool[\"pasillo\"]==pasillo_act[x]].index,2]=0\n",
    "                            t_recorrido+=distancia/velocidad\n",
    "                            pasillo_act[x]=route[0]\n",
    "                            pasillo_bool.iloc[pasillo_bool.loc[pasillo_bool[\"pasillo\"]==route[0]].index,1]=True\n",
    "                            pasillo_bool.iloc[pasillo_bool.loc[pasillo_bool[\"pasillo\"]==route[0]].index,2]=x+1\n",
    "            \n",
    "    print (\"tiempo de espera:\", t_wait)\n",
    "    print(\"tiempo en hacer recorridos:\", t_recorrido)\n",
    "    print(\"tiempo de pickeo:\", t_pick)\n",
    "    \n",
    "    return t_recorrido+t_wait+t_pick\n"
   ]
  },
  {
   "cell_type": "code",
   "execution_count": 22,
   "metadata": {
    "scrolled": false
   },
   "outputs": [
    {
     "name": "stdout",
     "output_type": "stream",
     "text": [
      "cant pickeadores: 4\n",
      "tiempo de espera: 500\n",
      "tiempo en hacer recorridos: 66001.2333333335\n",
      "tiempo de pickeo: 1360\n"
     ]
    },
    {
     "data": {
      "text/plain": [
       "67861.2333333335"
      ]
     },
     "execution_count": 22,
     "metadata": {},
     "output_type": "execute_result"
    }
   ],
   "source": [
    "tiempo(ordenes,pickeadores)"
   ]
  },
  {
   "cell_type": "markdown",
   "metadata": {},
   "source": [
    "## Problemas:\n",
    "* Al momento de escoger la cantidad de pickeadores mayor igual a las ordenes totales (20 en el caso de prueba) surge un error en el que el tiempo de pickeo de productos es 0, lo que nos dice que no recogerian productos los pickeadores.\n",
    "* La función ruta, no retorna la ruta mas corta entre 2 pasillos, por ejemplo devuelve rutas de 6 pasillos cuando el pasillo esta a 2."
   ]
  },
  {
   "cell_type": "code",
   "execution_count": 24,
   "metadata": {},
   "outputs": [
    {
     "data": {
      "text/plain": [
       "[11, 12, 22, 21, 31, 32, 42, 41, 51]"
      ]
     },
     "execution_count": 24,
     "metadata": {},
     "output_type": "execute_result"
    }
   ],
   "source": [
    "#Notar que el pasillo 51 es adyacente al pasillo 0 entonces solo basta un movimiento para ir, en cambio la funcion retorna:\n",
    "ruta(51,0)"
   ]
  }
 ],
 "metadata": {
  "kernelspec": {
   "display_name": "Python 3",
   "language": "python",
   "name": "python3"
  },
  "language_info": {
   "codemirror_mode": {
    "name": "ipython",
    "version": 3
   },
   "file_extension": ".py",
   "mimetype": "text/x-python",
   "name": "python",
   "nbconvert_exporter": "python",
   "pygments_lexer": "ipython3",
   "version": "3.8.3"
  }
 },
 "nbformat": 4,
 "nbformat_minor": 4
}
